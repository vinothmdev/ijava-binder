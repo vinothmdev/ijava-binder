{
 "cells": [
  {
   "cell_type": "code",
   "execution_count": 3,
   "metadata": {},
   "outputs": [
    {
     "name": "stdout",
     "output_type": "stream",
     "text": [
      "14.0.1+7\n"
     ]
    }
   ],
   "source": [
    "System.out.println(java.lang.Runtime.version())"
   ]
  },
  {
   "cell_type": "markdown",
   "metadata": {},
   "source": [
    "# Insert Sort\n",
    "Simple Insert Script Algorithm implementation in Java"
   ]
  },
  {
   "cell_type": "markdown",
   "metadata": {},
   "source": [
    "## Insert Sort perform following steps \n",
    "1. Select an element\n",
    "2. Compare it to the previous elements and insert to the position where it less than current entry\n",
    "3. repeat this step for the entire length of the list"
   ]
  },
  {
   "cell_type": "code",
   "execution_count": 8,
   "metadata": {},
   "outputs": [
    {
     "ename": "IncompleteSourceException",
     "evalue": "public int[] insertSort(int[] input) {\n    // Boundary check\n    if (input == null || input.length == 0) {\n        return input;\n    }",
     "output_type": "error",
     "traceback": [
      "\u001b[1m\u001b[31mIncomplete input:\u001b[0m",
      "\u001b[1m\u001b[30m|   \u001b[1m\u001b[30mpublic int[] insertSort(int[] input) {\u001b[0m",
      "\u001b[1m\u001b[30m|   \u001b[1m\u001b[30m    // Boundary check\u001b[0m",
      "\u001b[1m\u001b[30m|   \u001b[1m\u001b[30m    if (input == null || input.length == 0) {\u001b[0m",
      "\u001b[1m\u001b[30m|   \u001b[1m\u001b[30m        return input;\u001b[0m",
      "\u001b[1m\u001b[30m|   \u001b[1m\u001b[30m    }\u001b[0m"
     ]
    }
   ],
   "source": [
    "public int[] insertSort(int[] input) {\n",
    "    // Boundary check\n",
    "    if (input == null || input.length == 0) {\n",
    "        return input;\n",
    "    }"
   ]
  },
  {
   "cell_type": "code",
   "execution_count": 7,
   "metadata": {},
   "outputs": [
    {
     "ename": "CompilationException",
     "evalue": "",
     "output_type": "error",
     "traceback": [
      "\u001b[1m\u001b[30m|   \u001b[1m\u001b[30m    for (int i = 1; i < \u001b[0m\u001b[1m\u001b[30m\u001b[41minput\u001b[0m\u001b[1m\u001b[30m.length; i++) {\u001b[0m",
      "\u001b[1m\u001b[31mcannot find symbol\u001b[0m",
      "\u001b[1m\u001b[31m  symbol:   variable input\u001b[0m",
      "",
      "\u001b[1m\u001b[30m|   \u001b[1m\u001b[30m            int current = \u001b[0m\u001b[1m\u001b[30m\u001b[41minput\u001b[0m\u001b[1m\u001b[30m[i];\u001b[0m",
      "\u001b[1m\u001b[31mcannot find symbol\u001b[0m",
      "\u001b[1m\u001b[31m  symbol:   variable input\u001b[0m",
      "",
      "\u001b[1m\u001b[30m|   \u001b[1m\u001b[30m            while (j >= 0 && \u001b[0m\u001b[1m\u001b[30m\u001b[41minput\u001b[0m\u001b[1m\u001b[30m[j] > current) {\u001b[0m",
      "\u001b[1m\u001b[31mcannot find symbol\u001b[0m",
      "\u001b[1m\u001b[31m  symbol:   variable input\u001b[0m",
      "",
      "\u001b[1m\u001b[30m|   \u001b[1m\u001b[30m                \u001b[0m\u001b[1m\u001b[30m\u001b[41minput\u001b[0m\u001b[1m\u001b[30m[j+1] = input[j];\u001b[0m",
      "\u001b[1m\u001b[31mcannot find symbol\u001b[0m",
      "\u001b[1m\u001b[31m  symbol:   variable input\u001b[0m",
      "",
      "\u001b[1m\u001b[30m|   \u001b[1m\u001b[30m                input[j+1] = \u001b[0m\u001b[1m\u001b[30m\u001b[41minput\u001b[0m\u001b[1m\u001b[30m[j];\u001b[0m",
      "\u001b[1m\u001b[31mcannot find symbol\u001b[0m",
      "\u001b[1m\u001b[31m  symbol:   variable input\u001b[0m",
      "",
      "\u001b[1m\u001b[30m|   \u001b[1m\u001b[30m            \u001b[0m\u001b[1m\u001b[30m\u001b[41minput\u001b[0m\u001b[1m\u001b[30m[j+1] = current;\u001b[0m",
      "\u001b[1m\u001b[31mcannot find symbol\u001b[0m",
      "\u001b[1m\u001b[31m  symbol:   variable input\u001b[0m",
      ""
     ]
    }
   ],
   "source": [
    "    for (int i = 1; i < input.length; i++) {\n",
    "            int current = input[i];\n",
    "            int j = i - 1;\n",
    "            while (j >= 0 && input[j] > current) {\n",
    "                input[j+1] = input[j];\n",
    "                j -= 1;\n",
    "            }\n",
    "            input[j+1] = current;\n",
    "    }\n",
    "    \n",
    "    return input;\n",
    "}\n",
    "\n",
    "for (int i : insertSort(new int[] { 4, 7, 1, 20, 2, 31})) System.out.println(i);"
   ]
  },
  {
   "cell_type": "code",
   "execution_count": null,
   "metadata": {},
   "outputs": [],
   "source": []
  }
 ],
 "metadata": {
  "kernelspec": {
   "display_name": "Java",
   "language": "java",
   "name": "java"
  },
  "language_info": {
   "codemirror_mode": "java",
   "file_extension": ".jshell",
   "mimetype": "text/x-java-source",
   "name": "Java",
   "pygments_lexer": "java",
   "version": "14.0.1+7"
  }
 },
 "nbformat": 4,
 "nbformat_minor": 4
}
