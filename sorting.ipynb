{
 "cells": [
  {
   "cell_type": "markdown",
   "id": "ef6d73ff-ea04-445a-875b-fe963743c52f",
   "metadata": {},
   "source": [
    "# Insert Sort\n",
    "Simple Insert Script Algorithm implementation in Java"
   ]
  },
  {
   "cell_type": "markdown",
   "id": "a8c1a979-dd87-4888-8e2b-f54d8633e020",
   "metadata": {},
   "source": [
    "## Insert Sort perform following steps \n",
    "1. Select an element\n",
    "2. Compare it to the previous elements and insert to the position where it less than current entry\n",
    "3. repeat this step for the entire length of the list"
   ]
  },
  {
   "cell_type": "code",
   "execution_count": 2,
   "id": "e3344779-87e0-4d9c-9607-64e7b75e6b02",
   "metadata": {},
   "outputs": [],
   "source": [
    "public int[] insertSort(int[] input) {\n",
    "    // Boundary check\n",
    "    if (input == null || input.length == 0) {\n",
    "        return input;\n",
    "    }\n",
    "    \n",
    "    for (int i = 1; i < input.length; i++) {\n",
    "        int current = input[i];\n",
    "        int j = i - 1;\n",
    "        while (j >= 0 && input[j] > current) {\n",
    "            input[j+1] = input[j];\n",
    "            j -= 1;\n",
    "        }\n",
    "        input[j+1] = current;\n",
    "    }\n",
    "    \n",
    "    return input;\n",
    "}"
   ]
  },
  {
   "cell_type": "code",
   "execution_count": 8,
   "id": "27f37d59-dea7-407b-a0b2-858406f95c71",
   "metadata": {},
   "outputs": [
    {
     "name": "stdout",
     "output_type": "stream",
     "text": [
      "[1, 2, 4, 7, 20, 31]\n"
     ]
    }
   ],
   "source": [
    "System.out.println(java.util.Arrays.toString(insertSort(new int[] { 4, 7, 1, 20, 2, 31})));"
   ]
  },
  {
   "cell_type": "code",
   "execution_count": null,
   "id": "036c2e99-f4e7-4548-a1dc-620fa31aa288",
   "metadata": {},
   "outputs": [],
   "source": []
  }
 ],
 "metadata": {
  "kernelspec": {
   "display_name": "Java",
   "language": "java",
   "name": "java"
  },
  "language_info": {
   "codemirror_mode": "java",
   "file_extension": ".jshell",
   "mimetype": "text/x-java-source",
   "name": "Java",
   "pygments_lexer": "java",
   "version": "14.0.1+7"
  }
 },
 "nbformat": 4,
 "nbformat_minor": 5
}
